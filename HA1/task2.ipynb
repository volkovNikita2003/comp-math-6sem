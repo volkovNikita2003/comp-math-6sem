{
 "cells": [
  {
   "cell_type": "markdown",
   "metadata": {},
   "source": [
    "# Задача Римана о распаде разрыва\n",
    "\n"
   ]
  },
  {
   "cell_type": "code",
   "execution_count": 1,
   "metadata": {},
   "outputs": [],
   "source": [
    "import numpy as np\n",
    "import matplotlib.pyplot as plt"
   ]
  },
  {
   "cell_type": "markdown",
   "metadata": {},
   "source": [
    "Параметры (все расчеты ведутся в СИ)"
   ]
  },
  {
   "cell_type": "code",
   "execution_count": 2,
   "metadata": {},
   "outputs": [],
   "source": [
    "L           = 10     # м\n",
    "NX          = 100\n",
    "tau_init    = 1e-5   # с\n",
    "CFL_max     = 0.01\n",
    "time_output = 0.015  # с\n",
    "time_end    = 0.02   # с\n",
    "gamma       = 5 / 3\n",
    "\n",
    "# начальные условия\n",
    "u_L     = 0             # м / с\n",
    "rho_L   = 13            # кг / м^3\n",
    "P_L     = 10 * 10 ** 5  # Па\n",
    "gamma_L = gamma\n",
    "\n",
    "u_R     = 0             # м / с\n",
    "rho_R   = 1.3           # кг / м^3\n",
    "P_R     = 1 * 10 ** 5   # Па\n",
    "gamma_R = gamma"
   ]
  },
  {
   "cell_type": "markdown",
   "metadata": {},
   "source": [
    "Генерация сетки"
   ]
  },
  {
   "cell_type": "code",
   "execution_count": 3,
   "metadata": {},
   "outputs": [
    {
     "name": "stdout",
     "output_type": "stream",
     "text": [
      "h_grid = 0.20202020202020202\n"
     ]
    },
    {
     "data": {
      "text/plain": [
       "array([-10.        ,  -9.7979798 ,  -9.5959596 ,  -9.39393939,\n",
       "        -9.19191919,  -8.98989899,  -8.78787879,  -8.58585859,\n",
       "        -8.38383838,  -8.18181818,  -7.97979798,  -7.77777778,\n",
       "        -7.57575758,  -7.37373737,  -7.17171717,  -6.96969697,\n",
       "        -6.76767677,  -6.56565657,  -6.36363636,  -6.16161616,\n",
       "        -5.95959596,  -5.75757576,  -5.55555556,  -5.35353535,\n",
       "        -5.15151515,  -4.94949495,  -4.74747475,  -4.54545455,\n",
       "        -4.34343434,  -4.14141414,  -3.93939394,  -3.73737374,\n",
       "        -3.53535354,  -3.33333333,  -3.13131313,  -2.92929293,\n",
       "        -2.72727273,  -2.52525253,  -2.32323232,  -2.12121212,\n",
       "        -1.91919192,  -1.71717172,  -1.51515152,  -1.31313131,\n",
       "        -1.11111111,  -0.90909091,  -0.70707071,  -0.50505051,\n",
       "        -0.3030303 ,  -0.1010101 ,   0.1010101 ,   0.3030303 ,\n",
       "         0.50505051,   0.70707071,   0.90909091,   1.11111111,\n",
       "         1.31313131,   1.51515152,   1.71717172,   1.91919192,\n",
       "         2.12121212,   2.32323232,   2.52525253,   2.72727273,\n",
       "         2.92929293,   3.13131313,   3.33333333,   3.53535354,\n",
       "         3.73737374,   3.93939394,   4.14141414,   4.34343434,\n",
       "         4.54545455,   4.74747475,   4.94949495,   5.15151515,\n",
       "         5.35353535,   5.55555556,   5.75757576,   5.95959596,\n",
       "         6.16161616,   6.36363636,   6.56565657,   6.76767677,\n",
       "         6.96969697,   7.17171717,   7.37373737,   7.57575758,\n",
       "         7.77777778,   7.97979798,   8.18181818,   8.38383838,\n",
       "         8.58585859,   8.78787879,   8.98989899,   9.19191919,\n",
       "         9.39393939,   9.5959596 ,   9.7979798 ,  10.        ])"
      ]
     },
     "execution_count": 3,
     "metadata": {},
     "output_type": "execute_result"
    }
   ],
   "source": [
    "x_grid, h_grid = np.linspace(-L, L, NX, retstep=True)\n",
    "print(f\"h_grid = {h_grid}\")\n",
    "x_grid"
   ]
  },
  {
   "cell_type": "markdown",
   "metadata": {},
   "source": [
    "Функции"
   ]
  },
  {
   "cell_type": "code",
   "execution_count": 4,
   "metadata": {},
   "outputs": [],
   "source": [
    "# Расчет матриц\n",
    "def Omega_transposed(v_i, gamma):\n",
    "    # v_i = [rho, u, e] - значения примитивных переменных в точке x_i\n",
    "    u = v_i[1]\n",
    "    e = v_i[2]\n",
    "    c = c_velocity(e, gamma)\n",
    "    return np.array([\n",
    "        [ -u * c,  c, gamma - 1],\n",
    "        [-c ** 2,  0, gamma - 1],\n",
    "        [  u * c, -c, gamma - 1]\n",
    "    ])\n",
    "\n",
    "def Omega_transposed_inverse(v_i, gamma):\n",
    "    # v_i = [rho, u, e] - значения примитивных переменных в точке x_i\n",
    "    u = v_i[1]\n",
    "    e = v_i[2]\n",
    "    c = c_velocity(e, gamma)\n",
    "    return np.array([\n",
    "        [      1 / (2 * c ** 2),     -2 / (2 * c ** 2),       1 / (2 * c ** 2)],\n",
    "        [(u + c) / (2 * c ** 2), -2 * u / (2 * c ** 2), (u - c) / (2 * c ** 2)],\n",
    "        [ 1 / (2 * (gamma - 1)),                     0,  1 / (2 * (gamma - 1))]\n",
    "    ])\n",
    "\n",
    "def Lambda_abs(v_i, gamma):\n",
    "    # v_i = [rho, u, e] - значения примитивных переменных в точке x_i\n",
    "    u = v_i[1]\n",
    "    e = v_i[2]\n",
    "    c = c_velocity(e, gamma)\n",
    "    return np.array([\n",
    "        [np.abs(u + c),         0,             0],\n",
    "        [            0, np.abs(u),             0],\n",
    "        [            0,         0, np.abs(u - c)]\n",
    "    ])\n",
    "\n",
    "def A_matrix(v_i, gamma):\n",
    "    # v_i = [rho, u, e] - значения примитивных переменных в точке x_i\n",
    "    rho = v_i[0]\n",
    "    u = v_i[1]\n",
    "    e = v_i[2]\n",
    "    return np.array([\n",
    "        [             0,         1,        0],\n",
    "        [       -u ** 2,     2 * u, gamma -1],\n",
    "        [-gamma * u * e, gamma * e,        u]\n",
    "    ])\n",
    "\n",
    "# вычисление консервативных переменных на следующем шаге\n",
    "def w_calculation(w_i_prev, w_i, w_i_next, tau, h, Omega_tr, Omega_tr_inv, Lambda, A):\n",
    "    return w_i - tau * A @ (w_i_next - w_i_prev) / 2 / h + tau * Omega_tr_inv @ Lambda @ Omega_tr @ (w_i_next - 2 * w_i + w_i_prev) / 2 / h\n",
    "\n",
    "# Переход от примитивных переменных к консервативным\n",
    "def w_i_from_v_i(v_i):\n",
    "    return np.array([v_i[0], v_i[0] * v_i[1], v_i[0] * v_i[2]])\n",
    "\n",
    "def w_from_v(v):\n",
    "    return np.array([w_i_from_v_i(v_i) for v_i in v])\n",
    "\n",
    "# Переход от консервативных переменных к примитивным \n",
    "def v_i_from_w_i(w_i):\n",
    "    return np.array([w_i[0], w_i[1] / w_i[0], w_i[2] / w_i[0]])\n",
    "\n",
    "def v_from_w(w):\n",
    "    return np.array([v_i_from_w_i(w_i) for w_i in w])\n",
    "\n",
    "# Проверка условия устойчивости\n",
    "def is_stability_condision(tau, h, lambda_max, CFL_max):\n",
    "    if tau * lambda_max / h <= CFL_max:\n",
    "        return True\n",
    "    return False\n",
    "\n",
    "# Переход от давления к энергии\n",
    "def e_i_from_P_i(P_i, rho_i, gamma):\n",
    "    # P - число\n",
    "    return P_i / (gamma - 1) / rho_i\n",
    "\n",
    "# Переход от энергии к давлению\n",
    "def P_i_from_e_i(e_i, rho_i, gamma):\n",
    "    return (gamma - 1) * rho_i * e_i\n",
    "\n",
    "def P_from_e(e, rho, gamma):\n",
    "    return np.array([P_i_from_e_i(e[i], rho[i], gamma) for i in range(len(e))])\n",
    "\n",
    "# Расчет скорости звука\n",
    "def c_velocity(e, gamma):\n",
    "    return np.sqrt(gamma * (gamma - 1) * e)\n",
    "\n",
    "# генерация пустого массива\n",
    "def empty_list(x_grid):\n",
    "    return np.array([np.array([None, None, None]) for x in x_grid])"
   ]
  },
  {
   "cell_type": "markdown",
   "metadata": {},
   "source": [
    "Задание начальных условий"
   ]
  },
  {
   "cell_type": "code",
   "execution_count": 5,
   "metadata": {},
   "outputs": [],
   "source": [
    "# примитивные переменные\n",
    "v_current  = np.array([np.array([rho_L, u_L, e_i_from_P_i(P_L, rho_L, gamma_L)]) if x <= 0 else np.array([rho_R, u_R, e_i_from_P_i(P_R, rho_R, gamma_R)]) for x in x_grid])\n",
    "v_previous = empty_list(x_grid)\n",
    "P_current  = np.array([P_L if x <= 0 else P_R for x in x_grid])\n",
    "\n",
    "# переменные для отображения результата\n",
    "v_output = empty_list(x_grid)\n",
    "P_output = np.array([None] * len(x_grid))\n",
    "t_output = -1\n",
    "\n",
    "# консервативные переменные\n",
    "w_current  = w_from_v(v_current)\n",
    "w_previous = empty_list(x_grid)"
   ]
  },
  {
   "cell_type": "markdown",
   "metadata": {},
   "source": [
    "Расчет следующего временного слоя (перед расчетом необходимо выпонить предыдущую ячейку!)\n",
    "\n",
    "**Комментарий 1:** можно учесть, что у газов могут быть разные показатели адиабаты (вместо gamma использовать gamma_L, gamma_R)"
   ]
  },
  {
   "cell_type": "code",
   "execution_count": 6,
   "metadata": {},
   "outputs": [],
   "source": [
    "tau = tau_init\n",
    "t = 0  # t - время, в котором уже все посчитано (v_previous)\n",
    "\n",
    "# флаг для проверки выполнения условия устойчивости\n",
    "flag_tau = True\n",
    "\n",
    "# флаг для единоразовой записи\n",
    "flag_is_output = False\n",
    "\n",
    "# контроль шагов\n",
    "tau_max = 0\n",
    "tau_min = 1\n",
    "\n",
    "# цикл по времени\n",
    "while t <= time_end:    \n",
    "    # переобозначение слоев (если был переход на новый слой)\n",
    "    if flag_tau:\n",
    "        v_previous = [i for i in v_current]\n",
    "        w_previous = [i for i in w_current]\n",
    "        v_current  = empty_list(x_grid)\n",
    "        w_current  = empty_list(x_grid)\n",
    "    \n",
    "    flag_tau = True\n",
    "    # цикл по пространству без граничных точек\n",
    "    for i in range(1, len(x_grid) - 1, 1):\n",
    "        # вычисление матриц в данной точке\n",
    "        Omega_tr     = Omega_transposed(v_previous[i], gamma)\n",
    "        Omega_tr_inv = Omega_transposed_inverse(v_previous[i], gamma)\n",
    "        Lambda       = Lambda_abs(v_previous[i], gamma)\n",
    "        A            = A_matrix(v_previous[i], gamma)\n",
    "        \n",
    "        # проверка условия устойчивости\n",
    "        if not is_stability_condision(tau, h_grid, Lambda.max(), CFL_max):\n",
    "            # надо изменить шаг и все пересчитывать\n",
    "            tau /= 2\n",
    "            flag_tau = False\n",
    "            break\n",
    "\n",
    "        # расчет консервативных переменных\n",
    "        w_current[i] = w_calculation(w_previous[i - 1], w_previous[i], w_previous[i + 1], tau, h_grid, Omega_tr, Omega_tr_inv, Lambda, A)\n",
    "\n",
    "    # если условие устойчивости нарушено, то пересчитываем слой\n",
    "    if not flag_tau:\n",
    "        continue\n",
    "    \n",
    "    # переход к примитивным переменным\n",
    "    v_current[1:-1] = v_from_w(w_current[1:-1])\n",
    "\n",
    "    # учет граничных условий на примитивные координаты\n",
    "    v_current[ 0] = v_current[ 1]\n",
    "    v_current[-1] = v_current[-2]\n",
    "\n",
    "    # перенос граничных условий на консервативные координаты\n",
    "    w_current[ 0] = w_i_from_v_i(v_current[ 0])\n",
    "    w_current[-1] = w_i_from_v_i(v_current[-1])\n",
    "\n",
    "    # расчет давления\n",
    "    P_current = P_from_e(v_current[:, 2], v_current[:, 0], gamma)\n",
    "    \n",
    "    # переход к следующему слою\n",
    "    t += tau\n",
    "    \n",
    "    # изменение шага\n",
    "    tau_max = max(tau_max, tau)\n",
    "    tau_min = min(tau_min, tau)\n",
    "    # tau = min(tau * 2, tau_init)\n",
    "    tau *= 2\n",
    "\n",
    "    # сохранение слоя для вывода (только что посчитали слой t)\n",
    "    if not flag_is_output and t >= time_output:\n",
    "        v_output = np.copy(v_current)\n",
    "        P_output = np.copy(P_current)\n",
    "        t_output = t\n",
    "        flag_is_output = True\n",
    "        break  # чтобы дальше не считать"
   ]
  },
  {
   "cell_type": "code",
   "execution_count": 7,
   "metadata": {},
   "outputs": [
    {
     "name": "stdout",
     "output_type": "stream",
     "text": [
      "tau_init = 1e-05\n",
      "tau_min = 2.5e-06\n",
      "tau_max = 5e-06\n"
     ]
    }
   ],
   "source": [
    "print(f\"tau_init = {tau_init}\")\n",
    "print(f\"tau_min = {tau_min}\")\n",
    "print(f\"tau_max = {tau_max}\")"
   ]
  },
  {
   "cell_type": "code",
   "execution_count": 10,
   "metadata": {},
   "outputs": [
    {
     "name": "stdout",
     "output_type": "stream",
     "text": [
      "t_output = 0.015000000000001925\n"
     ]
    },
    {
     "data": {
      "image/png": "[encoded data removed]",
      "text/plain": [
       "<Figure size 1200x700 with 4 Axes>"
      ]
     },
     "metadata": {},
     "output_type": "display_data"
    }
   ],
   "source": [
    "plt.figure(figsize=(12, 7))\n",
    "# plt.title(f\"t = {t_output:.2f}\")\n",
    "\n",
    "plt.subplot(2, 2, 1)\n",
    "plt.scatter(x_grid, v_output[:,0])\n",
    "plt.grid()\n",
    "plt.xlabel(\"x, м\")\n",
    "plt.ylabel(r\"$\\rho, кг / м^3$\")\n",
    "\n",
    "plt.subplot(2, 2, 2)\n",
    "plt.scatter(x_grid, v_output[:,1])\n",
    "plt.grid()\n",
    "plt.xlabel(\"x, м\")\n",
    "plt.ylabel(r\"u, м / с\")\n",
    "\n",
    "plt.subplot(2, 2, 3)\n",
    "plt.scatter(x_grid, v_output[:,2] / 1000)\n",
    "plt.grid()\n",
    "plt.xlabel(\"x, м\")\n",
    "plt.ylabel(r\"e, кДж/кг\")\n",
    "\n",
    "plt.subplot(2, 2, 4)\n",
    "plt.scatter(x_grid, P_output / 10 ** 5)\n",
    "plt.grid()\n",
    "plt.xlabel(\"x, м\")\n",
    "plt.ylabel(r\"P, атм\")\n",
    "\n",
    "plt.savefig(\"task2.png\")\n",
    "print(f\"t_output = {t_output}\")"
   ]
  }
 ],
 "metadata": {
  "kernelspec": {
   "display_name": "Python 3",
   "language": "python",
   "name": "python3"
  },
  "language_info": {
   "codemirror_mode": {
    "name": "ipython",
    "version": 3
   },
   "file_extension": ".py",
   "mimetype": "text/x-python",
   "name": "python",
   "nbconvert_exporter": "python",
   "pygments_lexer": "ipython3",
   "version": "3.10.12"
  }
 },
 "nbformat": 4,
 "nbformat_minor": 2
}
